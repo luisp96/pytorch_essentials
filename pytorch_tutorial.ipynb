{
 "cells": [
  {
   "cell_type": "code",
   "id": "initial_id",
   "metadata": {
    "collapsed": true,
    "ExecuteTime": {
     "end_time": "2025-02-04T02:57:22.430061Z",
     "start_time": "2025-02-04T02:57:20.995784Z"
    }
   },
   "source": [
    "import torch\n",
    "from numpy import dtype\n",
    "from sympy.codegen.ast import float32\n",
    "from torchvision.transforms.v2 import ToTensor\n",
    "\n",
    "x = torch.rand(3)\n",
    "print(x)\n",
    "\n",
    "torch.cuda.is_available()\n",
    "\n",
    "x = torch.empty(3)\n",
    "print(x)"
   ],
   "outputs": [
    {
     "name": "stdout",
     "output_type": "stream",
     "text": [
      "tensor([0.1361, 0.9594, 0.1303])\n"
     ]
    },
    {
     "data": {
      "text/plain": [
       "True"
      ]
     },
     "execution_count": 1,
     "metadata": {},
     "output_type": "execute_result"
    }
   ],
   "execution_count": 1
  },
  {
   "metadata": {},
   "cell_type": "code",
   "outputs": [],
   "execution_count": null,
   "source": [
    "x = torch.empty(2, 3)\n",
    "print(x)"
   ],
   "id": "ca7aaaf5d1731352"
  },
  {
   "metadata": {},
   "cell_type": "code",
   "outputs": [],
   "execution_count": null,
   "source": [
    "x = torch.empty(2, 3, 2)\n",
    "print(x)"
   ],
   "id": "25599daaede69323"
  },
  {
   "metadata": {},
   "cell_type": "code",
   "outputs": [],
   "execution_count": null,
   "source": [
    "x = torch.empty(2, 3, 2, 2)\n",
    "print(x)"
   ],
   "id": "503090d1d04da03a"
  },
  {
   "metadata": {},
   "cell_type": "code",
   "outputs": [],
   "execution_count": null,
   "source": [
    "x = torch.rand(2,2)\n",
    "print(x)"
   ],
   "id": "30df6d240acb7a48"
  },
  {
   "metadata": {},
   "cell_type": "code",
   "outputs": [],
   "execution_count": null,
   "source": [
    "x = torch.zeros(2,2)\n",
    "print(x)"
   ],
   "id": "68d786a4fe2ff35d"
  },
  {
   "metadata": {},
   "cell_type": "code",
   "outputs": [],
   "execution_count": null,
   "source": [
    "x = torch.ones(2,2)\n",
    "print(x)"
   ],
   "id": "d5f3adff041544c0"
  },
  {
   "metadata": {},
   "cell_type": "code",
   "outputs": [],
   "execution_count": null,
   "source": [
    "x = torch.ones(2,2)\n",
    "print(x.dtype)"
   ],
   "id": "f4e1a70e2582fdc9"
  },
  {
   "metadata": {},
   "cell_type": "code",
   "outputs": [],
   "execution_count": null,
   "source": [
    "x = torch.ones(2,2, dtype=torch.int) #torch.double, torch.float16, torch.float64\n",
    "print(x.dtype) #prints the dtype of the current tensor"
   ],
   "id": "f05cf91f7f4cd89b"
  },
  {
   "metadata": {},
   "cell_type": "code",
   "outputs": [],
   "execution_count": null,
   "source": [
    "x = torch.ones(2,2, dtype=torch.float16)\n",
    "print(x.size()) # prints the size of the current tensor"
   ],
   "id": "bde25427470147e"
  },
  {
   "metadata": {},
   "cell_type": "code",
   "outputs": [],
   "execution_count": null,
   "source": [
    "x = torch.tensor([2.5, 0.1])\n",
    "print(x)"
   ],
   "id": "fc07c30934b2dc32"
  },
  {
   "metadata": {},
   "cell_type": "markdown",
   "source": "BASIC OPERATIONS",
   "id": "2556f15d79d1c98f"
  },
  {
   "metadata": {},
   "cell_type": "code",
   "outputs": [],
   "execution_count": null,
   "source": [
    "x = torch.rand(2,2)\n",
    "y = torch.rand(2,2)\n",
    "print(x)\n",
    "print(y)\n",
    "z = x + y\n",
    "z = torch.add(x,y)\n",
    "print(z) # it does element wise addition\n"
   ],
   "id": "b9744c58621c7d24"
  },
  {
   "metadata": {},
   "cell_type": "code",
   "outputs": [],
   "execution_count": null,
   "source": [
    "y.add_(x) # inplace operation. Add all of the x's to the y. It modifies the variable in which it is applied to\n",
    "print(y)"
   ],
   "id": "e4eb8fca20db4f9d"
  },
  {
   "metadata": {},
   "cell_type": "code",
   "outputs": [],
   "execution_count": null,
   "source": [
    "z = x - y\n",
    "z = torch.sub(x,y)\n",
    "print(z)"
   ],
   "id": "da9ab11c3c3b5236"
  },
  {
   "metadata": {},
   "cell_type": "code",
   "outputs": [],
   "execution_count": null,
   "source": [
    "z = x * y\n",
    "z = torch.mul(x,y)\n",
    "print(z)\n",
    "y.mul_(x) #inplace operation"
   ],
   "id": "89abdf50080bf0f8"
  },
  {
   "metadata": {},
   "cell_type": "code",
   "outputs": [],
   "execution_count": null,
   "source": [
    "z = x / y\n",
    "z = torch.div(x,y)"
   ],
   "id": "51256b0dee34b3cf"
  },
  {
   "metadata": {},
   "cell_type": "code",
   "outputs": [],
   "execution_count": null,
   "source": [
    "#slciing operations\n",
    "x = torch.rand(5,3)\n",
    "print(x[:,0]) #slicing for all rows but only the first column of each row\n",
    "print(x[1, :]) #slicing for only the first row but all of the columns from said row\n",
    "#you can also get the value of a tensor, if and only if is a single element tensor\n",
    "print(x[1, 1].item())\n"
   ],
   "id": "d8b65094524e5c0b"
  },
  {
   "metadata": {},
   "cell_type": "code",
   "outputs": [],
   "execution_count": null,
   "source": [
    "# reshaping a tensor\n",
    "x = torch.rand(4,4)\n",
    "print(x)\n",
    "y = x.view(16) #resizes the 16 values in a 4x4 tensor and a single 1x16. NOTE: the number of elements must match\n",
    "print(y)\n",
    "\n",
    "y = x.view(-1, 8) #if we don't want to resize to a single dimension tensor, then we can put a -1 on the first position and pytorch will correctly assume the dimension for the number of rows. i.e. 2x8\n",
    "print(y.size)"
   ],
   "id": "3b7a34c76b436bbb"
  },
  {
   "metadata": {
    "ExecuteTime": {
     "end_time": "2025-02-04T03:24:49.119830Z",
     "start_time": "2025-02-04T03:24:49.112657Z"
    }
   },
   "cell_type": "code",
   "source": [
    "#converting from numpy to tensor and viceversa\n",
    "import numpy as np\n",
    "# convert from a tensor into a np array\n",
    "a = torch.ones(5)\n",
    "print(a)\n",
    "b = a.numpy()\n",
    "print(type(b))  #i.e. numpy ndarray\n",
    "\n",
    "#if the tensor is in the cpu, then both objects(tensor and nparray) will share the same memory location, so any change to either will reflect on the other\n",
    "a.add_(1)\n",
    "print(a)\n",
    "print(b)"
   ],
   "id": "8d07a966d0a43a04",
   "outputs": [
    {
     "name": "stdout",
     "output_type": "stream",
     "text": [
      "tensor([1., 1., 1., 1., 1.])\n",
      "<class 'numpy.ndarray'>\n",
      "tensor([2., 2., 2., 2., 2.])\n",
      "[2. 2. 2. 2. 2.]\n"
     ]
    }
   ],
   "execution_count": 2
  },
  {
   "metadata": {
    "ExecuteTime": {
     "end_time": "2025-02-04T03:26:30.273950Z",
     "start_time": "2025-02-04T03:26:30.267841Z"
    }
   },
   "cell_type": "code",
   "source": [
    "#convert from a numpy array to a tensor\n",
    "a = np.ones(5)\n",
    "print(a)\n",
    "b = torch.from_numpy(a) #be careful changing the dtype, both must match. Otherwise you get an error\n",
    "print(b)\n",
    "\n",
    "a += 1\n",
    "print(a)\n",
    "print(b)\n"
   ],
   "id": "2ac57e2f9e1e065b",
   "outputs": [
    {
     "name": "stdout",
     "output_type": "stream",
     "text": [
      "[1. 1. 1. 1. 1.]\n",
      "tensor([1., 1., 1., 1., 1.], dtype=torch.float64)\n",
      "[2. 2. 2. 2. 2.]\n",
      "tensor([2., 2., 2., 2., 2.], dtype=torch.float64)\n"
     ]
    }
   ],
   "execution_count": 4
  },
  {
   "metadata": {
    "ExecuteTime": {
     "end_time": "2025-02-04T03:31:13.450574Z",
     "start_time": "2025-02-04T03:31:13.436679Z"
    }
   },
   "cell_type": "code",
   "source": [
    "#gpu operations\n",
    "if torch.cuda.is_available():\n",
    "    device = torch.device('cuda')\n",
    "    x = torch.ones(5, device=device) #creates a tensor in the GPU \n",
    "    y = torch.ones(5) \n",
    "    y = y.to(device) # this moves the tensor to the GPU\n",
    "    z = x + y # this will be computed in the GPU\n",
    "    # you can't convert a GPU tensor into a numpy ndarray, so you must first move it into the cpu(numpy can only handle cpu tensors)\n",
    "    z = z.to(\"cpu\")\n",
    "    print(z)"
   ],
   "id": "b6fb73da74848bf7",
   "outputs": [
    {
     "name": "stdout",
     "output_type": "stream",
     "text": [
      "tensor([2., 2., 2., 2., 2.])\n"
     ]
    }
   ],
   "execution_count": 6
  },
  {
   "metadata": {},
   "cell_type": "code",
   "outputs": [],
   "execution_count": null,
   "source": [
    "\n",
    "x = torch.ones(5, requires_grad=True) #the requires_grad flag is FALSE by default. It tells pytorch that it will need to calculate the gradients for this tensor later in the optimization steps. \n",
    "print(x) # this will also print the requires_grad flag as well"
   ],
   "id": "5f0ff1aa6e5b7e86"
  },
  {
   "metadata": {},
   "cell_type": "markdown",
   "source": "Gradient Calculations with autograd",
   "id": "d9e7f31a380fc5d4"
  },
  {
   "metadata": {
    "ExecuteTime": {
     "end_time": "2025-02-04T03:38:54.574281Z",
     "start_time": "2025-02-04T03:38:54.567676Z"
    }
   },
   "cell_type": "code",
   "source": [
    "#gradients are essential for optimization\n",
    "import torch \n",
    "\n",
    "x = torch.rand(3, requires_grad=True) # must specify the requires_grad to calculate the gradients\n",
    "print(x)\n",
    "y = x + 2 # pytorch creates a computational graph\n",
    "# pytorch will compute the forward pass, and create a grad_fn function and calculate the gradients during the backpropagation step(dy/dx)\n",
    "print(y) #has a grad_fn for AddBackward\n",
    "z = y*y*2\n",
    "print(z) #has a grad_fn for MulBackward\n",
    "z = z.mean()\n",
    "print(z) # has a grad_fn for MeanBackward\n",
    "\n",
    "# now when we calculate the gradients for z \n",
    "z.backward() #backward gradient calculation  dz/dx. The backward function will only work with scalar values(single value), if called without an argument\n",
    "print(x.grad) # the gradients are stored in x.grad\n",
    "#NOTE if we don't specify the requires_grad, then we won't have a .backward() grad_fn, giving us an error\n",
    " \n",
    "\n"
   ],
   "id": "91dbf909bca1c55b",
   "outputs": [
    {
     "name": "stdout",
     "output_type": "stream",
     "text": [
      "tensor([0.5928, 0.9772, 0.1487], requires_grad=True)\n",
      "tensor([2.5928, 2.9772, 2.1487], grad_fn=<AddBackward0>)\n"
     ]
    }
   ],
   "execution_count": 7
  },
  {
   "metadata": {},
   "cell_type": "markdown",
   "source": "The gradient calculation calculates a Jacobian product to get the gradients. We multiply the jacobian matrix containing the partial derivatives with a gradient vector(of the same size )",
   "id": "1494434079cb57b7"
  },
  {
   "metadata": {},
   "cell_type": "code",
   "outputs": [],
   "execution_count": null,
   "source": [
    "v = torch.tensor([0.1, 1.0, 0.001], dtype=torch.float32)\n",
    "z.backward(v) #dz/dx\n",
    "print(x.grad)"
   ],
   "id": "270eecacae975a00"
  },
  {
   "metadata": {
    "ExecuteTime": {
     "end_time": "2025-02-04T03:59:33.534715Z",
     "start_time": "2025-02-04T03:59:33.529262Z"
    }
   },
   "cell_type": "code",
   "source": [
    "# sometimes during our training, when we want update the weight, we don't want pytorch to calculate the gradients\n",
    "# we have 3 options for this\n",
    "\n",
    "# x.requires_grad_(False)\n",
    "# x.detach()\n",
    "# with torch.no_grad()\n",
    "\n",
    "x.requires_grad_(False) # the underscore means that pytorch will modify the variable in place\n",
    "print(x)\n",
    "\n",
    "y = x.detach() # creates a new tensor with the same values but it doesn't requrie the gradients (so requires_grad = False)\n",
    "print(y)\n",
    "\n",
    "with torch.no_grad():\n",
    "    z = x + 2\n",
    "    print(z)"
   ],
   "id": "693ea07e74630dff",
   "outputs": [
    {
     "name": "stdout",
     "output_type": "stream",
     "text": [
      "tensor([0.5928, 0.9772, 0.1487])\n",
      "tensor([0.5928, 0.9772, 0.1487])\n",
      "tensor([2.5928, 2.9772, 2.1487])\n"
     ]
    }
   ],
   "execution_count": 8
  },
  {
   "metadata": {
    "ExecuteTime": {
     "end_time": "2025-02-04T04:03:32.997796Z",
     "start_time": "2025-02-04T04:03:32.993221Z"
    }
   },
   "cell_type": "code",
   "source": [
    "# VERY IMPORTANT: Whenever we call the backward function, then the gradient for the tensor will be accumulated into the .grad attribute, so the values will be summed up\n",
    "weights = torch.ones(4, requires_grad=True)\n",
    "for epoch in range(3):\n",
    "    model_output = (weights*3).sum()\n",
    "    \n",
    "    model_output.backward()\n",
    "    \n",
    "    print(weights.grad) #gradients get aggregated [[3...],[6....],[9.....]]\n",
    "    weights.grad.zero_() #you must empty the gradients after each iteration to get the correct gradients [3....]\n",
    "    \n",
    "# same thing but with an optimizer\n",
    "optimizer = torch.optim.SGD(weights, lr=0.01)\n",
    "optimizer.step() # next iteration\n",
    "optimizer.zero_grad() # empty the gradients "
   ],
   "id": "226ece1ae8d3919e",
   "outputs": [
    {
     "name": "stdout",
     "output_type": "stream",
     "text": [
      "tensor([3., 3., 3., 3.])\n",
      "tensor([3., 3., 3., 3.])\n",
      "tensor([3., 3., 3., 3.])\n"
     ]
    }
   ],
   "execution_count": 11
  },
  {
   "metadata": {},
   "cell_type": "markdown",
   "source": "BACKPROPAGATION - THEORY WITH EXAMPLES",
   "id": "1ea655f22661c3c"
  },
  {
   "metadata": {
    "ExecuteTime": {
     "end_time": "2025-02-04T04:21:10.021879Z",
     "start_time": "2025-02-04T04:21:10.013762Z"
    }
   },
   "cell_type": "code",
   "source": [
    "import torch\n",
    "\n",
    "x = torch.tensor(1.0)\n",
    "y = torch.tensor(2.0)\n",
    "\n",
    "w = torch.tensor(1.0, requires_grad=True)\n",
    "\n",
    "#forward pass and compute the loss\n",
    "y_hat = w * x\n",
    "loss = (y_hat - y)**2\n",
    "print(loss)\n",
    "\n",
    "#backward pass\n",
    "loss.backward() #calculates the gradients during the backward pass and stores them in the tensors that have requires_grad \n",
    "print(w.grad) #prints the stored gradients for w\n",
    "\n",
    "##update weights\n",
    "## next forward and backward pass"
   ],
   "id": "bd08716d50bb05f5",
   "outputs": [
    {
     "name": "stdout",
     "output_type": "stream",
     "text": [
      "tensor(1., grad_fn=<PowBackward0>)\n",
      "tensor(-2.)\n"
     ]
    }
   ],
   "execution_count": 12
  },
  {
   "metadata": {},
   "cell_type": "markdown",
   "source": "GRADIENT DESCENT WITH AUTOGRAD AND BACKPROPAGATION",
   "id": "7917e2fd855354f3"
  },
  {
   "metadata": {
    "ExecuteTime": {
     "end_time": "2025-02-04T21:35:04.971891Z",
     "start_time": "2025-02-04T21:35:04.965750Z"
    }
   },
   "cell_type": "code",
   "source": [
    "import numpy as np\n",
    "\n",
    "# f = w * x\n",
    "# f = 2 * x\n",
    "x = np.array([1, 2, 3, 4], dtype=np.float32)\n",
    "y = np.array([2, 4, 6, 8], dtype=np.float32)\n",
    "\n",
    "w = 0.0\n",
    "\n",
    "# calculate the model prediction\n",
    "def forward(x):\n",
    "    return w * x\n",
    "# calculate the loss = MSE\n",
    "def loss(y, y_predicted):\n",
    "    return ((y_predicted - y) ** 2).mean()\n",
    "# calculate the gradient\n",
    "# MSE = 1/N * (w*x - y)**2\n",
    "# dJ/dw = 1/N 2x (w*x - y)\n",
    "def gradient(x,y,y_predicted):\n",
    "    return np.dot(2*x, y_predicted-y).mean()\n",
    "\n",
    "print(f'Prediction before training: f(5) = {forward(5):.3f}')\n",
    "\n",
    "# Training\n",
    "learning_rate = 0.01\n",
    "n_iters = 20\n",
    "\n",
    "for epoch in range(n_iters):\n",
    "    # prediction = forward pass\n",
    "    y_pred = forward(x)\n",
    "    # loss\n",
    "    l = loss(y, y_pred)\n",
    "    # gradient\n",
    "    dw = gradient(x,y,y_pred)\n",
    "    # update the weights\n",
    "    w -= learning_rate*dw\n",
    "    if epoch % 2 == 0:\n",
    "        print(f'epoch {epoch + 1}: w = {w:.3f}, loss = {l:.8f}')\n",
    "\n",
    "print(f'Prediction after training: f(5) = {forward(5):.3f}')"
   ],
   "id": "9229fe8d3e756ec3",
   "outputs": [
    {
     "name": "stdout",
     "output_type": "stream",
     "text": [
      "Prediction before training: f(5) = 0.000\n",
      "epoch 1: w = 1.200, loss = 30.00000000\n",
      "epoch 3: w = 1.872, loss = 0.76800019\n",
      "epoch 5: w = 1.980, loss = 0.01966083\n",
      "epoch 7: w = 1.997, loss = 0.00050332\n",
      "epoch 9: w = 1.999, loss = 0.00001288\n",
      "epoch 11: w = 2.000, loss = 0.00000033\n",
      "epoch 13: w = 2.000, loss = 0.00000001\n",
      "epoch 15: w = 2.000, loss = 0.00000000\n",
      "epoch 17: w = 2.000, loss = 0.00000000\n",
      "epoch 19: w = 2.000, loss = 0.00000000\n",
      "Prediction after training: f(5) = 10.000\n"
     ]
    }
   ],
   "execution_count": 14
  },
  {
   "metadata": {
    "ExecuteTime": {
     "end_time": "2025-02-04T21:40:17.965292Z",
     "start_time": "2025-02-04T21:40:17.951967Z"
    }
   },
   "cell_type": "code",
   "source": [
    "#gradient calculation with torch\n",
    "import torch\n",
    "\n",
    "# f = w * x\n",
    "# f = 2 * x\n",
    "x = torch.tensor([1, 2, 3, 4], dtype=torch.float32)\n",
    "y = torch.tensor([2, 4, 6, 8], dtype=torch.float32)\n",
    "\n",
    "w = torch.tensor(0.0, dtype=torch.float32, requires_grad=True)\n",
    "\n",
    "# calculate the model prediction\n",
    "def forward(x):\n",
    "    return w * x\n",
    "# calculate the loss = MSE\n",
    "def loss(y, y_predicted):\n",
    "    return ((y_predicted - y) ** 2).mean()\n",
    "# calculate the gradient\n",
    "# MSE = 1/N * (w*x - y)**2\n",
    "# dJ/dw = 1/N 2x (w*x - y)\n",
    "def gradient(x,y,y_predicted):\n",
    "    return np.dot(2*x, y_predicted-y).mean()\n",
    "\n",
    "print(f'Prediction before training: f(5) = {forward(5):.3f}')\n",
    "\n",
    "# Training\n",
    "learning_rate = 0.01\n",
    "n_iters = 100\n",
    "\n",
    "for epoch in range(n_iters):\n",
    "    # prediction = forward pass\n",
    "    y_pred = forward(x)\n",
    "    # loss\n",
    "    l = loss(y, y_pred)\n",
    "    # gradient = backward pass\n",
    "    l.backward() #dl/dw\n",
    "    # update the weights\n",
    "    with torch.no_grad():\n",
    "        w -= learning_rate*w.grad\n",
    "    \n",
    "    # zero gradients\n",
    "    w.grad.zero_()\n",
    "    \n",
    "    if epoch % 2 == 0:\n",
    "        print(f'epoch {epoch + 1}: w = {w:.3f}, loss = {l:.8f}')\n",
    "\n",
    "print(f'Prediction after training: f(5) = {forward(5):.3f}')"
   ],
   "id": "8a7959a25fc9ad57",
   "outputs": [
    {
     "name": "stdout",
     "output_type": "stream",
     "text": [
      "Prediction before training: f(5) = 0.000\n",
      "epoch 1: w = 0.300, loss = 30.00000000\n",
      "epoch 3: w = 0.772, loss = 15.66018772\n",
      "epoch 5: w = 1.113, loss = 8.17471695\n",
      "epoch 7: w = 1.359, loss = 4.26725292\n",
      "epoch 9: w = 1.537, loss = 2.22753215\n",
      "epoch 11: w = 1.665, loss = 1.16278565\n",
      "epoch 13: w = 1.758, loss = 0.60698116\n",
      "epoch 15: w = 1.825, loss = 0.31684780\n",
      "epoch 17: w = 1.874, loss = 0.16539653\n",
      "epoch 19: w = 1.909, loss = 0.08633806\n",
      "epoch 21: w = 1.934, loss = 0.04506890\n",
      "epoch 23: w = 1.952, loss = 0.02352631\n",
      "epoch 25: w = 1.966, loss = 0.01228084\n",
      "epoch 27: w = 1.975, loss = 0.00641066\n",
      "epoch 29: w = 1.982, loss = 0.00334642\n",
      "epoch 31: w = 1.987, loss = 0.00174685\n",
      "epoch 33: w = 1.991, loss = 0.00091188\n",
      "epoch 35: w = 1.993, loss = 0.00047601\n",
      "epoch 37: w = 1.995, loss = 0.00024848\n",
      "epoch 39: w = 1.996, loss = 0.00012971\n",
      "epoch 41: w = 1.997, loss = 0.00006770\n",
      "epoch 43: w = 1.998, loss = 0.00003534\n",
      "epoch 45: w = 1.999, loss = 0.00001845\n",
      "epoch 47: w = 1.999, loss = 0.00000963\n",
      "epoch 49: w = 1.999, loss = 0.00000503\n",
      "epoch 51: w = 1.999, loss = 0.00000262\n",
      "epoch 53: w = 2.000, loss = 0.00000137\n",
      "epoch 55: w = 2.000, loss = 0.00000071\n",
      "epoch 57: w = 2.000, loss = 0.00000037\n",
      "epoch 59: w = 2.000, loss = 0.00000019\n",
      "epoch 61: w = 2.000, loss = 0.00000010\n",
      "epoch 63: w = 2.000, loss = 0.00000005\n",
      "epoch 65: w = 2.000, loss = 0.00000003\n",
      "epoch 67: w = 2.000, loss = 0.00000001\n",
      "epoch 69: w = 2.000, loss = 0.00000001\n",
      "epoch 71: w = 2.000, loss = 0.00000000\n",
      "epoch 73: w = 2.000, loss = 0.00000000\n",
      "epoch 75: w = 2.000, loss = 0.00000000\n",
      "epoch 77: w = 2.000, loss = 0.00000000\n",
      "epoch 79: w = 2.000, loss = 0.00000000\n",
      "epoch 81: w = 2.000, loss = 0.00000000\n",
      "epoch 83: w = 2.000, loss = 0.00000000\n",
      "epoch 85: w = 2.000, loss = 0.00000000\n",
      "epoch 87: w = 2.000, loss = 0.00000000\n",
      "epoch 89: w = 2.000, loss = 0.00000000\n",
      "epoch 91: w = 2.000, loss = 0.00000000\n",
      "epoch 93: w = 2.000, loss = 0.00000000\n",
      "epoch 95: w = 2.000, loss = 0.00000000\n",
      "epoch 97: w = 2.000, loss = 0.00000000\n",
      "epoch 99: w = 2.000, loss = 0.00000000\n",
      "Prediction after training: f(5) = 10.000\n"
     ]
    }
   ],
   "execution_count": 17
  },
  {
   "metadata": {
    "ExecuteTime": {
     "end_time": "2025-02-04T22:26:16.835788Z",
     "start_time": "2025-02-04T22:26:15.424543Z"
    }
   },
   "cell_type": "code",
   "source": [
    "# 1) Design model (input, output size, forward pass)\n",
    "# 2) Construct the loss and optimizer\n",
    "# 3) Training loop \n",
    "#   - Forward pass: compute the prediction \n",
    "#   - Backward pass: compute the gradients\n",
    "#   - Update the weights \n",
    "import torch\n",
    "import torch.nn as nn\n",
    "\n",
    "\n",
    "# f = w * x\n",
    "# f = 2 * x\n",
    "x = torch.tensor([1, 2, 3, 4], dtype=torch.float32)\n",
    "y = torch.tensor([2, 4, 6, 8], dtype=torch.float32)\n",
    "\n",
    "w = torch.tensor(0.0, dtype=torch.float32, requires_grad=True)\n",
    "\n",
    "# calculate the model prediction\n",
    "def forward(x):\n",
    "    return w * x\n",
    "\n",
    "print(f'Prediction before training: f(5) = {forward(5):.3f}')\n",
    "\n",
    "# Training\n",
    "learning_rate = 0.01\n",
    "n_iters = 100\n",
    "\n",
    "loss = nn.MSELoss()\n",
    "optimizer = torch.optim.SGD([w], lr=learning_rate)\n",
    "\n",
    "for epoch in range(n_iters):\n",
    "    # prediction = forward pass\n",
    "    y_pred = forward(x)\n",
    "    # loss\n",
    "    l = loss(y, y_pred)\n",
    "    # gradient = backward pass\n",
    "    l.backward() #dl/dw\n",
    "    # update the weights\n",
    "    optimizer.step()\n",
    "    # zero gradients\n",
    "    optimizer.zero_grad()\n",
    "    \n",
    "    if epoch % 2 == 0:\n",
    "        print(f'epoch {epoch + 1}: w = {w:.3f}, loss = {l:.8f}')\n",
    "\n",
    "print(f'Prediction after training: f(5) = {forward(5):.3f}')\n",
    "\n",
    "\n"
   ],
   "id": "191ff850a3228121",
   "outputs": [
    {
     "name": "stdout",
     "output_type": "stream",
     "text": [
      "Prediction before training: f(5) = 0.000\n",
      "epoch 1: w = 0.300, loss = 30.00000000\n",
      "epoch 3: w = 0.772, loss = 15.66018772\n",
      "epoch 5: w = 1.113, loss = 8.17471695\n",
      "epoch 7: w = 1.359, loss = 4.26725292\n",
      "epoch 9: w = 1.537, loss = 2.22753215\n",
      "epoch 11: w = 1.665, loss = 1.16278565\n",
      "epoch 13: w = 1.758, loss = 0.60698116\n",
      "epoch 15: w = 1.825, loss = 0.31684780\n",
      "epoch 17: w = 1.874, loss = 0.16539653\n",
      "epoch 19: w = 1.909, loss = 0.08633806\n",
      "epoch 21: w = 1.934, loss = 0.04506890\n",
      "epoch 23: w = 1.952, loss = 0.02352631\n",
      "epoch 25: w = 1.966, loss = 0.01228084\n",
      "epoch 27: w = 1.975, loss = 0.00641066\n",
      "epoch 29: w = 1.982, loss = 0.00334642\n",
      "epoch 31: w = 1.987, loss = 0.00174685\n",
      "epoch 33: w = 1.991, loss = 0.00091188\n",
      "epoch 35: w = 1.993, loss = 0.00047601\n",
      "epoch 37: w = 1.995, loss = 0.00024848\n",
      "epoch 39: w = 1.996, loss = 0.00012971\n",
      "epoch 41: w = 1.997, loss = 0.00006770\n",
      "epoch 43: w = 1.998, loss = 0.00003534\n",
      "epoch 45: w = 1.999, loss = 0.00001845\n",
      "epoch 47: w = 1.999, loss = 0.00000963\n",
      "epoch 49: w = 1.999, loss = 0.00000503\n",
      "epoch 51: w = 1.999, loss = 0.00000262\n",
      "epoch 53: w = 2.000, loss = 0.00000137\n",
      "epoch 55: w = 2.000, loss = 0.00000071\n",
      "epoch 57: w = 2.000, loss = 0.00000037\n",
      "epoch 59: w = 2.000, loss = 0.00000019\n",
      "epoch 61: w = 2.000, loss = 0.00000010\n",
      "epoch 63: w = 2.000, loss = 0.00000005\n",
      "epoch 65: w = 2.000, loss = 0.00000003\n",
      "epoch 67: w = 2.000, loss = 0.00000001\n",
      "epoch 69: w = 2.000, loss = 0.00000001\n",
      "epoch 71: w = 2.000, loss = 0.00000000\n",
      "epoch 73: w = 2.000, loss = 0.00000000\n",
      "epoch 75: w = 2.000, loss = 0.00000000\n",
      "epoch 77: w = 2.000, loss = 0.00000000\n",
      "epoch 79: w = 2.000, loss = 0.00000000\n",
      "epoch 81: w = 2.000, loss = 0.00000000\n",
      "epoch 83: w = 2.000, loss = 0.00000000\n",
      "epoch 85: w = 2.000, loss = 0.00000000\n",
      "epoch 87: w = 2.000, loss = 0.00000000\n",
      "epoch 89: w = 2.000, loss = 0.00000000\n",
      "epoch 91: w = 2.000, loss = 0.00000000\n",
      "epoch 93: w = 2.000, loss = 0.00000000\n",
      "epoch 95: w = 2.000, loss = 0.00000000\n",
      "epoch 97: w = 2.000, loss = 0.00000000\n",
      "epoch 99: w = 2.000, loss = 0.00000000\n",
      "Prediction after training: f(5) = 10.000\n"
     ]
    }
   ],
   "execution_count": 18
  },
  {
   "metadata": {
    "ExecuteTime": {
     "end_time": "2025-02-04T22:35:57.858862Z",
     "start_time": "2025-02-04T22:35:57.838735Z"
    }
   },
   "cell_type": "code",
   "outputs": [
    {
     "name": "stdout",
     "output_type": "stream",
     "text": [
      "4 1\n",
      "Prediction before training: f(5) = -2.809\n",
      "epoch 1: w = 0.018, loss = 54.00693512\n",
      "epoch 11: w = 1.700, loss = 1.39800382\n",
      "epoch 21: w = 1.970, loss = 0.03684373\n",
      "epoch 31: w = 2.013, loss = 0.00158810\n",
      "epoch 41: w = 2.019, loss = 0.00063898\n",
      "epoch 51: w = 2.020, loss = 0.00057962\n",
      "epoch 61: w = 2.019, loss = 0.00054531\n",
      "epoch 71: w = 2.019, loss = 0.00051355\n",
      "epoch 81: w = 2.018, loss = 0.00048367\n",
      "epoch 91: w = 2.018, loss = 0.00045551\n",
      "Prediction after training: f(5) = 10.036\n"
     ]
    }
   ],
   "execution_count": 21,
   "source": [
    "# 1) Design model (input, output size, forward pass)\n",
    "# 2) Construct the loss and optimizer\n",
    "# 3) Training loop \n",
    "#   - Forward pass: compute the prediction \n",
    "#   - Backward pass: compute the gradients\n",
    "#   - Update the weights \n",
    "import torch\n",
    "import torch.nn as nn\n",
    "\n",
    "\n",
    "# f = w * x\n",
    "# f = 2 * x\n",
    "x = torch.tensor([[1], [2], [3], [4]], dtype=torch.float32)\n",
    "y = torch.tensor([[2], [4], [6], [8]], dtype=torch.float32)\n",
    "\n",
    "x_test = torch.tensor([5], dtype=torch.float32)\n",
    "\n",
    "n_samples, n_features = x.shape\n",
    "print(n_samples, n_features)\n",
    "\n",
    "input_size = n_features\n",
    "output_size = n_features\n",
    "# model = nn.Linear(input_size, output_size)\n",
    "\n",
    "class LinearRegression(nn.Module):\n",
    "    def __init__(self, input_dim, output_dim):\n",
    "        super(LinearRegression, self).__init__()\n",
    "        #define layers\n",
    "        self.lin = nn.Linear(input_dim, output_dim)\n",
    "        \n",
    "    def forward(self, x):\n",
    "        return self.lin(x)\n",
    "    \n",
    "model = LinearRegression(input_size, output_size)\n",
    "\n",
    "print(f'Prediction before training: f(5) = {model(x_test).item():.3f}')\n",
    "\n",
    "# Training\n",
    "learning_rate = 0.01\n",
    "n_iters = 100\n",
    "\n",
    "loss = nn.MSELoss()\n",
    "optimizer = torch.optim.SGD(model.parameters(), lr=learning_rate)\n",
    "\n",
    "for epoch in range(n_iters):\n",
    "    # prediction = forward pass\n",
    "    y_pred = model(x)\n",
    "    # loss\n",
    "    l = loss(y, y_pred)\n",
    "    # gradient = backward pass\n",
    "    l.backward() #dl/dw\n",
    "    # update the weights\n",
    "    optimizer.step()\n",
    "    # zero gradients\n",
    "    optimizer.zero_grad()\n",
    "    \n",
    "    if epoch % 10 == 0:\n",
    "        [w, b] = model.parameters()\n",
    "        print(f'epoch {epoch + 1}: w = {w[0][0].item():.3f}, loss = {l:.8f}')\n",
    "\n",
    "print(f'Prediction after training: f(5) = {model(x_test).item():.3f}')\n",
    "\n",
    "\n"
   ],
   "id": "575255e06b7f0894"
  },
  {
   "metadata": {},
   "cell_type": "markdown",
   "source": "LINEAR REGRESSION",
   "id": "6b21f56f5b27dd8c"
  },
  {
   "metadata": {
    "ExecuteTime": {
     "end_time": "2025-02-05T22:33:48.929907Z",
     "start_time": "2025-02-05T22:33:46.666698Z"
    }
   },
   "cell_type": "code",
   "source": [
    "# 1) Design model (input, output size, forward pass)\n",
    "# 2) Construct loss and optimizer\n",
    "# 3) Training loop\n",
    "#  - forward pass: compute prediction and loss\n",
    "#  - backward pass: gradients\n",
    "#  - update weights\n",
    "import torch\n",
    "import torch.nn as nn\n",
    "import numpy as np\n",
    "from sklearn import datasets\n",
    "import matplotlib.pyplot as plt\n",
    "\n",
    "# 0) Prepare data\n",
    "x_numpy, y_numpy = datasets.make_regression(n_samples=100, n_features=1, noise=20, random_state=1)\n",
    "x = torch.from_numpy(x_numpy.astype(np.float32))\n",
    "y = torch.from_numpy(y_numpy.astype(np.float32))\n",
    "# reshape the tensor to a column vector\n",
    "y = y.view(y.shape[0], 1)\n",
    "\n",
    "n_samples, n_features = x.shape\n",
    "# 1) model design \n",
    "input_size = n_features\n",
    "output_size = 1\n",
    "model = nn.Linear(input_size, output_size)\n",
    "\n",
    "# 2) define loss and optimizer\n",
    "learning_rate = 0.01\n",
    "criterion = nn.MSELoss()\n",
    "optimizer = torch.optim.SGD(model.parameters(), lr=learning_rate)\n",
    "# 3) training loop\n",
    "num_epochs = 100\n",
    "for epoch in range(num_epochs):\n",
    "    # forward pass and loss\n",
    "    y_predicted = model(x)\n",
    "    loss = criterion(y_predicted, y)\n",
    "    # backward pass (backpropagation) i.e. calculation of the derivatives\n",
    "    loss.backward()\n",
    "    # update the weights\n",
    "    optimizer.step() # updates the weights. The w is already in the optimizer, so no need to call w.grad to calculate the new weights\n",
    "    optimizer.zero_grad() # empty out the gradients before the next iterations. Otherwise, the backward function will sum up the gradients into the .grad attribute(.grad is internal to the optimizer in this case)\n",
    "    if (epoch + 1) % 10 == 0:\n",
    "        print(f'epoch: {epoch + 1}, loss: {loss.item():.4f}')\n",
    "        \n",
    "#plot\n",
    "predicted = model(x).detach() # the detach disables the tensor from being tracked on the computational graph\n",
    "plt.plot(x_numpy, y_numpy, 'ro')\n",
    "plt.plot(x_numpy, predicted, 'b')\n",
    "plt.show()"
   ],
   "id": "81b40f50f3dc1c47",
   "outputs": [
    {
     "name": "stdout",
     "output_type": "stream",
     "text": [
      "epoch: 10, loss: 4328.2764\n",
      "epoch: 20, loss: 3229.2681\n",
      "epoch: 30, loss: 2434.4775\n",
      "epoch: 40, loss: 1859.0608\n",
      "epoch: 50, loss: 1442.0402\n",
      "epoch: 60, loss: 1139.5271\n",
      "epoch: 70, loss: 919.8884\n",
      "epoch: 80, loss: 760.2917\n",
      "epoch: 90, loss: 644.2373\n",
      "epoch: 100, loss: 559.7878\n"
     ]
    },
    {
     "data": {
      "text/plain": [
       "<Figure size 640x480 with 1 Axes>"
      ],
      "image/png": "[encoded data removed]"
     },
     "metadata": {},
     "output_type": "display_data"
    }
   ],
   "execution_count": 22
  },
  {
   "metadata": {},
   "cell_type": "markdown",
   "source": "LOGISTIC REGRESSION ",
   "id": "13072263aedc1028"
  },
  {
   "metadata": {
    "ExecuteTime": {
     "end_time": "2025-02-05T23:25:47.576782Z",
     "start_time": "2025-02-05T23:25:47.525757Z"
    }
   },
   "cell_type": "code",
   "source": [
    "# 1) Design model (input, output size, forward pass)\n",
    "# 2) Construct loss and optimizer\n",
    "# 3) Training loop\n",
    "#  - forward pass: compute prediction and loss\n",
    "#  - backward pass: gradients\n",
    "#  - update weights\n",
    "import torch \n",
    "import torch.nn as nn\n",
    "import numpy as np\n",
    "from sklearn import datasets\n",
    "from sklearn.preprocessing import StandardScaler\n",
    "from sklearn.model_selection import train_test_split\n",
    "\n",
    "# 0) prepare data\n",
    "bc = datasets.load_breast_cancer()\n",
    "x, y = bc.data, bc.target\n",
    "\n",
    "n_samples, n_features = x.shape\n",
    "print(n_samples, n_features)\n",
    "\n",
    "x_train, x_test, y_train, y_test = train_test_split(x, y, test_size=0.2, random_state=1234)\n",
    "# scale the features\n",
    "sc = StandardScaler() #when dealing with logistic, we want to scale our data to have zero mean and uniform variance \n",
    "X_train = sc.fit_transform(x_train) #what is the difference between fit_transform and just transform?\n",
    "X_test = sc.transform(x_test)\n",
    "\n",
    "X_train = torch.from_numpy(X_train.astype(np.float32)) # make sure to cast as np.float32 because the original data is of type Double and will cause problems down the road\n",
    "X_test = torch.from_numpy(X_test.astype(np.float32))\n",
    "y_train = torch.from_numpy(y_train.astype(np.float32))\n",
    "y_test = torch.from_numpy(y_test.astype(np.float32))\n",
    "\n",
    "y_train = y_train.view(y_train.shape[0], 1) # what is this shape change?\n",
    "y_test = y_test.view(y_test.shape[0], 1)\n",
    "\n",
    "# 1) setup the model \n",
    "# f = wx + b, sigmoid function at the end \n",
    "class LogisticRegression(nn.Module):\n",
    "    def __init__(self, n_input_features):\n",
    "        super(LogisticRegression, self).__init__()\n",
    "        self.linear = nn.Linear(n_input_features, 1)\n",
    "    \n",
    "    def forward(self, x):\n",
    "        y_predicted = torch.sigmoid(self.linear(x))\n",
    "        return y_predicted\n",
    "    \n",
    "model = LogisticRegression(n_features)\n",
    "\n",
    "# 2) setup the loss and optimizer\n",
    "learning_rate = 0.01\n",
    "criterion = nn.BCELoss()\n",
    "optimizer = torch.optim.SGD(model.parameters(), lr=learning_rate)\n",
    "\n",
    "# 3) training loop\n",
    "num_epochs = 100\n",
    "for epoch in range(num_epochs):\n",
    "    #forward pass and loss calculation\n",
    "    y_predicted = model(X_train)\n",
    "    loss = criterion(y_predicted, y_train)\n",
    "    #backward pass\n",
    "    loss.backward()\n",
    "    #updates weights\n",
    "    optimizer.step()\n",
    "    #zero gradients\n",
    "    optimizer.zero_grad()\n",
    "    \n",
    "    if (epoch + 1) % 10 == 0:\n",
    "        print(f'epoch: {epoch + 1}, loss: {loss.item():.4f}')\n",
    "        \n",
    "with torch.no_grad(): # for evaluation, we don't want the gradient calculations to be tracked in the computational graph for (model), so we must use torch.no_grad()\n",
    "    y_predicted = model(X_test)\n",
    "    y_predicted_cls = y_predicted.round()\n",
    "    acc = y_predicted_cls.eq(y_test).sum() / float(y_test.shape[0])\n",
    "    print(f'Accuracy: {acc:.4f}')"
   ],
   "id": "22b9c660ec167f00",
   "outputs": [
    {
     "name": "stdout",
     "output_type": "stream",
     "text": [
      "569 30\n",
      "epoch: 10, loss: 0.4224\n",
      "epoch: 20, loss: 0.3759\n",
      "epoch: 30, loss: 0.3416\n",
      "epoch: 40, loss: 0.3151\n",
      "epoch: 50, loss: 0.2938\n",
      "epoch: 60, loss: 0.2764\n",
      "epoch: 70, loss: 0.2617\n",
      "epoch: 80, loss: 0.2491\n",
      "epoch: 90, loss: 0.2383\n",
      "epoch: 100, loss: 0.2287\n",
      "Accuracy: 0.8947\n"
     ]
    }
   ],
   "execution_count": 25
  },
  {
   "metadata": {},
   "cell_type": "markdown",
   "source": "DATASET AND DATALOADER  ",
   "id": "f861a6800f088e89"
  },
  {
   "metadata": {
    "ExecuteTime": {
     "end_time": "2025-02-06T03:05:31.194012Z",
     "start_time": "2025-02-06T03:05:31.184417Z"
    }
   },
   "cell_type": "code",
   "source": [
    "'''\n",
    "epoch = 1 forward and backward pass of ALL training samples\n",
    "batch_size = number of training samples in one forward & backward pass\n",
    "number of iterations = number of passes, each pass using [batch_size] number of samples\n",
    "e.g. 100 samples, batch_size=20 --> 100/20 = 5 iterations for 1 epoch\n",
    "'''\n",
    "import torch\n",
    "import torchvision\n",
    "from torch.utils.data import Dataset, DataLoader\n",
    "import numpy as np\n",
    "import math\n",
    "\n",
    "class WineDataset(Dataset):\n",
    "    def __init__(self):\n",
    "        # data loading\n",
    "        xy = np.loadtxt('./wine.csv', delimiter=',', dtype=np.float32, skiprows=1)\n",
    "        self.x = torch.from_numpy(xy[:, 1:])\n",
    "        self.y = torch.from_numpy(xy[:, [0]]) # n_samples, 1\n",
    "        self.n_samples = xy.shape[0]\n",
    "\n",
    "    def __getitem__(self, item):\n",
    "        # dataset[0] helps for indexing\n",
    "        return self.x[item], self.y[item]\n",
    "    def __len__(self):\n",
    "        # len(dataset)\n",
    "        return self.n_samples\n",
    "    \n",
    "dataset = WineDataset()\n",
    "# data iteration without dataloader\n",
    "# first_data = dataset[0]\n",
    "# features, labels = first_data\n",
    "# print(features, labels)\n",
    "\n",
    "# data iteration with dataloader\n",
    "dataloader = DataLoader(dataset=dataset, batch_size=4, shuffle=True)\n",
    "# dataiter = iter(dataloader)\n",
    "# data = next(dataiter)\n",
    "# features, labels = data\n",
    "# print(features, labels)\n",
    "\n",
    "#training loop\n",
    "num_epochs = 2\n",
    "batch_size = 4\n",
    "total_samples = len(dataset)\n",
    "n_iterations = math.ceil(total_samples/batch_size)\n",
    "print(total_samples, n_iterations)\n",
    "\n",
    "for epoch in range(num_epochs):\n",
    "    for i, (inputs, labels) in enumerate(dataloader):\n",
    "        # forward and backward pass, update the weights\n",
    "        if (i+5) % 5 ==0:\n",
    "            print(f'epoch: {epoch + 1}/{num_epochs}, step {i+1}/{n_iterations}, inputs {inputs.shape}')\n"
   ],
   "id": "c8ecf37ba894cf47",
   "outputs": [
    {
     "name": "stdout",
     "output_type": "stream",
     "text": [
      "178 45\n",
      "epoch: 1/2, step 1/45, inputs torch.Size([4, 13])\n",
      "epoch: 1/2, step 6/45, inputs torch.Size([4, 13])\n",
      "epoch: 1/2, step 11/45, inputs torch.Size([4, 13])\n",
      "epoch: 1/2, step 16/45, inputs torch.Size([4, 13])\n",
      "epoch: 1/2, step 21/45, inputs torch.Size([4, 13])\n",
      "epoch: 1/2, step 26/45, inputs torch.Size([4, 13])\n",
      "epoch: 1/2, step 31/45, inputs torch.Size([4, 13])\n",
      "epoch: 1/2, step 36/45, inputs torch.Size([4, 13])\n",
      "epoch: 1/2, step 41/45, inputs torch.Size([4, 13])\n",
      "epoch: 2/2, step 1/45, inputs torch.Size([4, 13])\n",
      "epoch: 2/2, step 6/45, inputs torch.Size([4, 13])\n",
      "epoch: 2/2, step 11/45, inputs torch.Size([4, 13])\n",
      "epoch: 2/2, step 16/45, inputs torch.Size([4, 13])\n",
      "epoch: 2/2, step 21/45, inputs torch.Size([4, 13])\n",
      "epoch: 2/2, step 26/45, inputs torch.Size([4, 13])\n",
      "epoch: 2/2, step 31/45, inputs torch.Size([4, 13])\n",
      "epoch: 2/2, step 36/45, inputs torch.Size([4, 13])\n",
      "epoch: 2/2, step 41/45, inputs torch.Size([4, 13])\n"
     ]
    }
   ],
   "execution_count": 50
  },
  {
   "metadata": {},
   "cell_type": "markdown",
   "source": "DATASET TRANSFORM",
   "id": "9c4f78e242523917"
  },
  {
   "metadata": {
    "ExecuteTime": {
     "end_time": "2025-02-11T08:04:28.994858Z",
     "start_time": "2025-02-11T08:04:28.981574Z"
    }
   },
   "cell_type": "code",
   "source": [
    "'''\n",
    "Transforms can be applied to PIL images, tensors, ndarrays, or custom data during creation of the DataSet\n",
    "\n",
    "complete list of built-in transforms:\n",
    "https://pytorch.org/docs/stable/transforms.html\n",
    "\n",
    "On Images\n",
    "----------\n",
    "CenterCrop, Grayscale, Pad, RandomAffine\n",
    "RandomCrop, RandomHorizontalFlip, RandomVerticalFlip, \n",
    "RandomRotation, Resize, Scale\n",
    "\n",
    "On Tensors\n",
    "-----------\n",
    "LinearTransformation, Normalize, RandomErasing\n",
    "\n",
    "Conversion\n",
    "-----------\n",
    "ToPilImage: from tensor or ndarray\n",
    "ToTensor: from numpy.ndarray or PILImage\n",
    "\n",
    "Generic\n",
    "-----------\n",
    "Use Lambda\n",
    "\n",
    "Custom\n",
    "-----------\n",
    "Write own class\n",
    "\n",
    "Compose Multiple Transforms\n",
    "-----------------------------\n",
    "composed = transforms.Compose([Rescale(256),\n",
    "                                RandomCrop(224),])\n",
    "torchvision.transforms.ReScale(256)\n",
    "torchvision.transforms.ToTensor()\n",
    "\n",
    "dataset = torchvision.datasets.MNIST( root=\"./\", transform=torchvision.transforms.ToTensor())\n",
    "\n",
    "'''\n",
    "import torch\n",
    "import torchvision\n",
    "from torch.utils.data import Dataset, DataLoader\n",
    "import numpy as np\n",
    "import math\n",
    "\n",
    "class WineDataset(Dataset):\n",
    "    def __init__(self, transform=None): # the = on the parameter indicates default value, which in this case would be None\n",
    "        # data loading\n",
    "        xy = np.loadtxt('./wine.csv', delimiter=',', dtype=np.float32, skiprows=1)\n",
    "        self.n_samples = xy.shape[0]\n",
    "        \n",
    "        #note that we do not convert to tensor here\n",
    "        self.x = xy[:, 1:]\n",
    "        self.y = xy[:, [0]]\n",
    "        self.transform = transform\n",
    "\n",
    "    def __getitem__(self, item):\n",
    "        # dataset[0] helps for indexing\n",
    "        sample =  self.x[item], self.y[item]\n",
    "        # if there is a transform\n",
    "        if self.transform:\n",
    "            sample = self.transform(sample) # applies the custom transform class. \n",
    "            \n",
    "        return sample  # return the sample, with a transform if one was specified\n",
    "            \n",
    "    def __len__(self):\n",
    "        # len(dataset)\n",
    "        return self.n_samples\n",
    "\n",
    "# custom transform class\n",
    "class ToTensor:\n",
    "    def __call__(self, sample): # the call function gets called automatically when we pass a sample into the ToTensor class as a function\n",
    "        inputs, targets = sample\n",
    "        return torch.from_numpy(inputs), torch.from_numpy(targets)\n",
    "    \n",
    "# a multiplication transform class\n",
    "class MulTransform:\n",
    "    def __init__(self, factor):\n",
    "        self.factor = factor\n",
    "    def __call__(self, sample):\n",
    "        inputs, targets = sample\n",
    "        inputs *= self.factor\n",
    "        return inputs, targets\n",
    "    \n",
    "dataset = WineDataset(transform=ToTensor()) \n",
    "first_data = dataset[0]\n",
    "features, labels = first_data\n",
    "print(features)\n",
    "print(type(features), type(labels)) # should be a torch.Tensor class\n",
    "\n",
    "composed = torchvision.transforms.Compose([ToTensor(), MulTransform(4)])\n",
    "dataset = WineDataset(transform=composed)\n",
    "first_data = dataset[0]\n",
    "features, labels = first_data\n",
    "print(features)\n",
    "print(type(features), type(labels)) # should be a torch.Tensor class\n",
    "\n",
    "\n",
    "\n",
    "\n"
   ],
   "id": "f5e6c143dd6e3110",
   "outputs": [
    {
     "name": "stdout",
     "output_type": "stream",
     "text": [
      "tensor([1.4230e+01, 1.7100e+00, 2.4300e+00, 1.5600e+01, 1.2700e+02, 2.8000e+00,\n",
      "        3.0600e+00, 2.8000e-01, 2.2900e+00, 5.6400e+00, 1.0400e+00, 3.9200e+00,\n",
      "        1.0650e+03])\n",
      "<class 'torch.Tensor'> <class 'torch.Tensor'>\n",
      "tensor([5.6920e+01, 6.8400e+00, 9.7200e+00, 6.2400e+01, 5.0800e+02, 1.1200e+01,\n",
      "        1.2240e+01, 1.1200e+00, 9.1600e+00, 2.2560e+01, 4.1600e+00, 1.5680e+01,\n",
      "        4.2600e+03])\n",
      "<class 'torch.Tensor'> <class 'torch.Tensor'>\n"
     ]
    }
   ],
   "execution_count": 53
  },
  {
   "metadata": {},
   "cell_type": "markdown",
   "source": "SOFTMAX AND CROSS-ENTROPY FUNCTIONS   ",
   "id": "e218e1522de60a35"
  },
  {
   "metadata": {
    "ExecuteTime": {
     "end_time": "2025-02-11T08:28:42.428593Z",
     "start_time": "2025-02-11T08:28:42.417994Z"
    }
   },
   "cell_type": "code",
   "source": [
    "'''\n",
    "The Softmax function squashes the raw outputs into probabilities i.e.[0 - 1]. It does this by applying the exponential function to each input\n",
    "and normalizing it by the sum of all inputs\n",
    "'''\n",
    "import torch\n",
    "import torch.nn as nn\n",
    "import numpy as np\n",
    "\n",
    "def softmax(x):\n",
    "    return np.exp(x)/np.sum(np.exp(x), axis=0) # axis of x sums up the inputs across the columns, and y sums up the inputs across the rows.\n",
    "\n",
    "x = np.array([2.0,1.0, 0.1])\n",
    "outputs = softmax(x)\n",
    "print('softmax numpy:', outputs)\n",
    "\n",
    "# torch version of softmax\n",
    "x = torch.tensor([2.0, 1.0, 0.1])\n",
    "outputs = torch.softmax(x, dim=0) # dim is the same as axis for numpy\n",
    "print('softmax torch:', outputs)\n",
    "\n"
   ],
   "id": "7c32840319147ce4",
   "outputs": [
    {
     "name": "stdout",
     "output_type": "stream",
     "text": [
      "softmax numpy: [0.65900114 0.24243297 0.09856589]\n",
      "softmax torch: tensor([0.6590, 0.2424, 0.0986])\n",
      "Loss1 numpy: 0.3567\n",
      "Loss2 numpy: 2.3026\n"
     ]
    }
   ],
   "execution_count": 56
  },
  {
   "metadata": {},
   "cell_type": "code",
   "outputs": [],
   "execution_count": null,
   "source": [
    "'''\n",
    "A lot times the softmax is combined with the cross-entropy loss function. This measures the performance of our classification model, whose output is a probability between \n",
    "0 and 1. It can be used in multi class problems. The loss increases as the predictor probability diverges from the actual label. So the better the prediction, the lower the loss. \n",
    "Note: in the case for probability label prediction, our label (Y), needs to be one-hot encoded i.e. Y = [1,0,0]. \n",
    "\n",
    "Y = [1, 0, 0] (Actual class label)\n",
    "(predicted class label from softmax)\n",
    "Y_hat = [0.7, 0.2, 0.1]  \n",
    "Cross_entropy = D(Y, Y_hat) = 0.35 (GOOD PREDICTION)\n",
    "\n",
    "Y = [1, 0, 0] (Actual class label)\n",
    "(predicted class label from softmax)\n",
    "Y_hat = [0.1, 0.3, 0.6]  \n",
    "Cross_entropy = D(Y, Y_hat) = 2.30 (GOOD PREDICTION)\n",
    "'''\n",
    "\n",
    "# Cross-Entropy code numpy\n",
    "import torch \n",
    "import torch.nn as nn\n",
    "import numpy as np\n",
    "\n",
    "def cross_entropy(actual, predicted):\n",
    "    loss = -np.sum(actual * np.log(predicted))\n",
    "    return loss # / float(predicted.shape[0]) The cross-entropy eqn dictates we normalize the output \n",
    "\n",
    "# y must be one hot encoded \n",
    "# if class 0: [1 0 0]\n",
    "# if class 1: [0 1 0]\n",
    "# if class 2: [0 0 1]\n",
    "Y = np.array([1, 0, 0])\n",
    "\n",
    "# y_pred has probabilities\n",
    "Y_pred_good = np.array([0.7,0.2,0.1])\n",
    "Y_pred_bad = np.array([0.1, 0.3, 0.6])\n",
    "l1 = cross_entropy(Y, Y_pred_good)\n",
    "l2 = cross_entropy(Y, Y_pred_bad)\n",
    "print(f'Loss1 numpy: {l1:.4f}')\n",
    "print(f'Loss2 numpy: {l2:.4f}')"
   ],
   "id": "fc99870bb1dfebc4"
  },
  {
   "metadata": {
    "ExecuteTime": {
     "end_time": "2025-02-11T08:43:34.372422Z",
     "start_time": "2025-02-11T08:43:34.358972Z"
    }
   },
   "cell_type": "code",
   "source": [
    "import torch \n",
    "import torch.nn as nn\n",
    "import numpy as np\n",
    "'''\n",
    "Careful! \n",
    "nn.CrossEntropyLoss() applies:\n",
    "nn.LogSoftmax() + nn.NLLLoss() (negative log likelihood loss)\n",
    "\n",
    "--> No Softmax in last layer! i.e. we should not implement the softmax ourselves, since it is already applied\n",
    "\n",
    "Y has clas labels, NOT ONE-HOT!\n",
    "Y_pred has raw scores(logits), NO SOFTMAX!\n",
    "'''\n",
    "loss = nn.CrossEntropyLoss()\n",
    "\n",
    "Y = torch.tensor([0]) # remember it is not one hot encoded, but rather class label\n",
    "# n_samples * n_classes = 1x3\n",
    "Y_pred_good = torch.tensor([[2.0, 1.0, 0.1]]) # the class prediction has the raw values, no softmax i.e. normalization\n",
    "Y_pred_bad = torch.tensor([[0.5, 2.0, 0.3]])\n",
    "\n",
    "l1 = loss(Y_pred_good, Y) # here order matters, loss(prediction, actual)\n",
    "l2 = loss(Y_pred_bad, Y)\n",
    "\n",
    "print(f'L1 loss tensor {l1.item()}')\n",
    "print(f'L2 loss tensor {l2.item()}')\n",
    "\n",
    "# actual predictions\n",
    "_, predictions1 = torch.max(Y_pred_good, dim=1)\n",
    "_, predictions2 = torch.max(Y_pred_bad, dim=1)\n",
    "print(predictions1)\n",
    "print(predictions2)\n",
    "\n",
    "# loss function with multiple samples\n",
    "# 3 samples\n",
    "Y = torch.tensor([2, 0, 1])\n",
    "# n_samples * n_classes = 3x3\n",
    "Y_pred_good = torch.tensor([[0.1, 1.0, 2.1], [2.0, 1.0, 0.1], [0.1, 3.0, 0.1]]) # the class prediction has the raw values, no softmax i.e. normalization\n",
    "Y_pred_bad = torch.tensor([[2.1, 1.0, 0.1], [0.1, 1.0, 2.1], [0.1, 3.0, 0.1]])\n",
    "\n",
    "l1 = loss(Y_pred_good, Y) # here order matters, loss(prediction, actual)\n",
    "l2 = loss(Y_pred_bad, Y)\n",
    "\n",
    "print(f'L1 loss tensor 3 samples: {l1.item()}')\n",
    "print(f'L2 loss tensor 3 samples: {l2.item()}')\n",
    "\n",
    "# actual predictions\n",
    "_, predictions1 = torch.max(Y_pred_good, dim=1)\n",
    "_, predictions2 = torch.max(Y_pred_bad, dim=1)\n",
    "print(predictions1)\n",
    "print(predictions2)\n"
   ],
   "id": "8bfeef12ebd3753f",
   "outputs": [
    {
     "name": "stdout",
     "output_type": "stream",
     "text": [
      "L1 loss tensor 0.4170299470424652\n",
      "L2 loss tensor 1.840616226196289\n",
      "tensor([0])\n",
      "tensor([1])\n",
      "L1 loss tensor 3 samples: 0.3018244206905365\n",
      "L2 loss tensor 3 samples: 1.6241613626480103\n",
      "tensor([2, 0, 1])\n",
      "tensor([0, 2, 1])\n"
     ]
    }
   ],
   "execution_count": 61
  },
  {
   "metadata": {
    "ExecuteTime": {
     "end_time": "2025-02-11T08:54:48.654903Z",
     "start_time": "2025-02-11T08:54:48.649627Z"
    }
   },
   "cell_type": "code",
   "source": [
    "'''\n",
    "Multiclass cross entropy using a NN and torch.CrossEntropyLoss function\n",
    "'''\n",
    "import torch \n",
    "import torch.nn as nn\n",
    "# Multiclass problem\n",
    "class NeuralNet2(nn.Module):\n",
    "    def __init__(self, input_size, hidden_size, num_classes):\n",
    "        super(NeuralNet2, self).__init__()\n",
    "        self.linear1 = nn.Linear(input_size, hidden_size)\n",
    "        self.relu = nn.ReLU()\n",
    "        self.linear2 = nn.Linear(hidden_size, num_classes)\n",
    "    def forward(self, x):\n",
    "        out = self.linear1(x) # input layer\n",
    "        out = self.relu(out) # activation function \n",
    "        out = self.linear2(out) # last layer\n",
    "        # no softmax at the end\n",
    "        return out\n",
    "\n",
    "model = NeuralNet2(input_size=28*28, hidden_size=5, num_classes=3)\n",
    "criterion = nn.CrossEntropyLoss() # applies softmax\n",
    "# missing parts: data, run the forward and then calculate the loss. \n",
    "# TODO: implement this shit \n"
   ],
   "id": "676522a2bfefc50b",
   "outputs": [],
   "execution_count": 64
  },
  {
   "metadata": {},
   "cell_type": "code",
   "outputs": [],
   "execution_count": null,
   "source": [
    "'''\n",
    "Binary class Neural Network with cross entropy. We ask: is this a dog?\n",
    "For this example, we only have one output on our last layer and then apply the sigmoid(which will return a probability between 0-1 with <0.5=false, >0.5=true)\n",
    "In PyTorch: Use nn.BCELoss()\n",
    "Sigmoid at the end!\n",
    "'''\n",
    "import torch\n",
    "import torch.nn as nn\n",
    "\n",
    "# Binary classification\n",
    "class NeuralNet1(nn.Module):\n",
    "    def __init__(self, input_size, hidden_size): # no need for num_classes since we only have one class\n",
    "        super(NeuralNet1, self).__init__()\n",
    "        self.linear1 = nn.Linear(input_size, hidden_size)\n",
    "        self.relu = nn.ReLU()\n",
    "        self.linear2 = nn.Linear(hidden_size, 1) # only one output \n",
    "    \n",
    "    def forward(self, x):\n",
    "        out = self.linear1(x)\n",
    "        out = self.relu(out)\n",
    "        out = self.linear2(out)\n",
    "        #sigmoid at the end\n",
    "        y_pred = torch.sigmoid(out)\n",
    "        return y_pred\n",
    "    \n",
    "model = NeuralNet1(input_size=28*28, hidden_size=5)\n",
    "criterion = nn.BCELoss()\n",
    "# TODO: implement this shit "
   ],
   "id": "8ba79c21a8d659f0"
  },
  {
   "metadata": {},
   "cell_type": "markdown",
   "source": "ACTIVATION FUNCTIONS    ",
   "id": "fa680b014f99dce6"
  },
  {
   "metadata": {},
   "cell_type": "code",
   "outputs": [],
   "execution_count": null,
   "source": [
    "''''\n",
    "Activation Functions:\n",
    "Activation functions apply a non-linear transformation and decide whether a neuron should be activated or not\n",
    "WHY?\n",
    "Without activation functions our network is basically just a stacked linear regression model. We use non-linear activation functions\n",
    "so that our model can learn more complex behaviors and perform better.\n",
    "--> With non-linear transformations our network can learn better and perform more complex tasks!\n",
    "--> After each layer we typically use an activation function!\n",
    "\n",
    "Most popular activation functions:\n",
    "1.- Step function: output 1 if outputs is greater than a threshold(theta) and 0 otherwise. Not use in practice\n",
    "2.- Sigmoid Function: Output a probability between 0 and 1. It is typically used in the last layer of a binary classification problem\n",
    "3.- TanH Function(Hyperbolic tan function): It is a scaled sigmoid function with some shift. It will output a value between -1 and +1. \n",
    "It is a good option for hidden layers\n",
    "4.- ReLU Function: Most popular activation function. The function will output a 0 for negative values and output a linear function for values greater than 0. It is actually non-linear (f(x) = max(0,x))\n",
    "Rule of thumb: If you don't know what to use, just use a ReLU for hidden layers\n",
    "5.- Leaky ReLU Function: For negative numbers, it will output the value times a small value \"a\", and the regular ReLU otherwise\n",
    "--> Improved version of ReLU. Tries to solve the vanishing gradient problem. With a normal ReLU, our values for negative inputs are 0 and this means that the gradient is also 0 during our backpropagation. When the gradient is 0, the weights will never be updated, so the neurons won't learn anything because they are dead. \n",
    "6.- SoftMax: Squashing function that forces the outputs to be probabilities between 0 and 1.  \n",
    "--> Good in last layer in multi class classification problems \n",
    "'''\n",
    "import torch \n",
    "import torch.nn as nn\n",
    "import torch.nn.functional as F\n",
    " \n",
    "''''\n",
    "Activation functions in nn:\n",
    "- nn.Sigmoid\n",
    "- nn.TanH\n",
    "- nn.LeakyReLU\n",
    "- nn.Softmax\n",
    "\n",
    "Activation functions in torch:\n",
    "- torch.relu\n",
    "- torch.sigmoid\n",
    "- torch.softmax\n",
    "- torch.tanh\n",
    "\n",
    "Some activation functions are not available in the torch api directly, but they are available in the torch.nn.functional:\n",
    "- F.relu\n",
    "- F.leaky_relu\n",
    "'''\n",
    "# option 1 (create nn modules)\n",
    "class NeuralNet(nn.Module):\n",
    "    def __init__(self, input_size, hidden_size):\n",
    "        super(NeuralNet, self).__init__()\n",
    "        self.linear1 = nn.Linear(input_size, hidden_size)\n",
    "        self.relu = nn.ReLU()\n",
    "        self.linear2 = nn.Linear(hidden_size, 1)\n",
    "        self.sigmoid = nn.Sigmoid()\n",
    "        \n",
    "    def forward(self, x):\n",
    "        out = self.linear1(x)\n",
    "        out = self.relu(out)\n",
    "        out = self.linear2(out)\n",
    "        out = self.sigmoid(out)\n",
    "        return out\n",
    "    \n",
    "# option 2 (use activation functions directly in forward pass)\n",
    "class NeuralNet2(nn.Module):\n",
    "    def __init__(self, input_size, hidden_size):\n",
    "        super(NeuralNet2, self).__init__()\n",
    "        self.linear1 = nn.Linear(input_size, hidden_size)\n",
    "        self.linear2 = nn.Linear(hidden_size, 1)\n",
    "    \n",
    "    def forward(self, x):\n",
    "        out = torch.relu(self.linear1(x))\n",
    "        out = torch.sigmoid(self.linear2(out))\n",
    "        return out\n"
   ],
   "id": "6e0b8e4c90a6eb26"
  },
  {
   "metadata": {},
   "cell_type": "code",
   "outputs": [],
   "execution_count": null,
   "source": "",
   "id": "4cda4d9e2dd894fd"
  },
  {
   "metadata": {},
   "cell_type": "code",
   "outputs": [],
   "execution_count": null,
   "source": "",
   "id": "b17f2545eab07a46"
  },
  {
   "metadata": {},
   "cell_type": "code",
   "outputs": [],
   "execution_count": null,
   "source": "",
   "id": "13a9bae2c0c096f8"
  },
  {
   "metadata": {},
   "cell_type": "code",
   "outputs": [],
   "execution_count": null,
   "source": "",
   "id": "32ef86e04539d5e8"
  },
  {
   "metadata": {},
   "cell_type": "code",
   "outputs": [],
   "execution_count": null,
   "source": "",
   "id": "bb2d9ff75b991974"
  },
  {
   "metadata": {},
   "cell_type": "code",
   "outputs": [],
   "execution_count": null,
   "source": "",
   "id": "9cc93659be767dad"
  },
  {
   "metadata": {},
   "cell_type": "code",
   "outputs": [],
   "execution_count": null,
   "source": "",
   "id": "4caa9dd186446883"
  },
  {
   "metadata": {},
   "cell_type": "code",
   "outputs": [],
   "execution_count": null,
   "source": "",
   "id": "a37a3cb6f3d29b13"
  },
  {
   "metadata": {},
   "cell_type": "code",
   "outputs": [],
   "execution_count": null,
   "source": "",
   "id": "f8279eaac9e8b34b"
  },
  {
   "metadata": {},
   "cell_type": "code",
   "outputs": [],
   "execution_count": null,
   "source": "",
   "id": "6ac714482e91849b"
  },
  {
   "metadata": {},
   "cell_type": "code",
   "outputs": [],
   "execution_count": null,
   "source": "",
   "id": "3886228dc79f4cd9"
  },
  {
   "metadata": {},
   "cell_type": "code",
   "outputs": [],
   "execution_count": null,
   "source": "",
   "id": "cd9d2e82546ffbee"
  },
  {
   "metadata": {},
   "cell_type": "code",
   "outputs": [],
   "execution_count": null,
   "source": "",
   "id": "a02ee922fa90d0b6"
  }
 ],
 "metadata": {
  "kernelspec": {
   "display_name": "Python 3",
   "language": "python",
   "name": "python3"
  },
  "language_info": {
   "codemirror_mode": {
    "name": "ipython",
    "version": 2
   },
   "file_extension": ".py",
   "mimetype": "text/x-python",
   "name": "python",
   "nbconvert_exporter": "python",
   "pygments_lexer": "ipython2",
   "version": "2.7.6"
  }
 },
 "nbformat": 4,
 "nbformat_minor": 5
}
